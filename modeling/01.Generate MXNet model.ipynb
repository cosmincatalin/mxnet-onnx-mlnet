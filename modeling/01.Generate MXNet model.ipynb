{
 "cells": [
  {
   "cell_type": "code",
   "execution_count": 1,
   "metadata": {},
   "outputs": [],
   "source": [
    "import pandas as pd"
   ]
  },
  {
   "cell_type": "code",
   "execution_count": 2,
   "metadata": {},
   "outputs": [],
   "source": [
    "df_train = pd.read_csv(\"../data/train.csv\")\n",
    "df_test = pd.read_csv(\"../data/test.csv\")"
   ]
  },
  {
   "cell_type": "code",
   "execution_count": 3,
   "metadata": {},
   "outputs": [],
   "source": [
    "import mxnet as mx"
   ]
  },
  {
   "cell_type": "code",
   "execution_count": 4,
   "metadata": {},
   "outputs": [],
   "source": [
    "train_X = mx.nd.array(df_train.drop([\"vendor_id\", \"payment_type\", \"fare_amount\"], axis=1).values)\n",
    "train_y = mx.nd.array(df_train.fare_amount.values)\n",
    "test_X = mx.nd.array(df_test.drop([\"vendor_id\", \"payment_type\", \"fare_amount\"], axis=1).values)\n",
    "test_y = mx.nd.array(df_test.fare_amount.values)\n",
    "train_nd = list(zip(train_X, train_y))\n",
    "test_nd = list(zip(test_X, test_y))"
   ]
  },
  {
   "cell_type": "code",
   "execution_count": 5,
   "metadata": {},
   "outputs": [],
   "source": [
    "from mxnet.gluon.data import DataLoader"
   ]
  },
  {
   "cell_type": "code",
   "execution_count": 6,
   "metadata": {},
   "outputs": [],
   "source": [
    "batch_size = 64\n",
    "mx.random.seed(42)"
   ]
  },
  {
   "cell_type": "code",
   "execution_count": 7,
   "metadata": {},
   "outputs": [],
   "source": [
    "train_data = DataLoader(train_nd, batch_size, shuffle=True)\n",
    "test_data = DataLoader(test_nd, batch_size, shuffle=True)"
   ]
  },
  {
   "cell_type": "code",
   "execution_count": 8,
   "metadata": {},
   "outputs": [],
   "source": [
    "from mxnet.gluon.nn import HybridSequential, Dense, Dropout\n",
    "from mxnet.initializer import Xavier\n",
    "from mxnet.gluon.loss import L2Loss\n",
    "from mxnet.gluon.trainer import Trainer"
   ]
  },
  {
   "cell_type": "code",
   "execution_count": 9,
   "metadata": {},
   "outputs": [],
   "source": [
    "net = HybridSequential()\n",
    "with net.name_scope():\n",
    "    net.add(Dense(9))\n",
    "    net.add(Dropout(.25))\n",
    "    net.add(Dense(16))\n",
    "    net.add(Dropout(.25))\n",
    "    net.add(Dense(1))"
   ]
  },
  {
   "cell_type": "code",
   "execution_count": 10,
   "metadata": {},
   "outputs": [],
   "source": [
    "net.hybridize()"
   ]
  },
  {
   "cell_type": "code",
   "execution_count": 11,
   "metadata": {},
   "outputs": [],
   "source": [
    "ctx = mx.cpu()"
   ]
  },
  {
   "cell_type": "code",
   "execution_count": 12,
   "metadata": {},
   "outputs": [],
   "source": [
    "net.collect_params().initialize(Xavier(magnitude=2.24), ctx=ctx)"
   ]
  },
  {
   "cell_type": "code",
   "execution_count": 13,
   "metadata": {},
   "outputs": [],
   "source": [
    "loss = L2Loss()"
   ]
  },
  {
   "cell_type": "code",
   "execution_count": 14,
   "metadata": {},
   "outputs": [],
   "source": [
    "trainer = Trainer(net.collect_params(), optimizer=\"adam\")"
   ]
  },
  {
   "cell_type": "code",
   "execution_count": 15,
   "metadata": {},
   "outputs": [],
   "source": [
    "smoothing_constant = .01\n",
    "epochs = 5"
   ]
  },
  {
   "cell_type": "code",
   "execution_count": 16,
   "metadata": {},
   "outputs": [],
   "source": [
    "def measure_performance(model, ctx, data_iter):\n",
    "    mae = mx.metric.MAE()\n",
    "    for _, (data, labels) in enumerate(data_iter):\n",
    "        data = data.as_in_context(ctx)\n",
    "        labels = labels.as_in_context(ctx)\n",
    "        output = model(data)\n",
    "        predictions = output\n",
    "        mae.update(preds=predictions, labels=labels)\n",
    "    return mae.get()[1]"
   ]
  },
  {
   "cell_type": "code",
   "execution_count": 17,
   "metadata": {},
   "outputs": [],
   "source": [
    "from mxnet import autograd"
   ]
  },
  {
   "cell_type": "code",
   "execution_count": 18,
   "metadata": {},
   "outputs": [
    {
     "name": "stdout",
     "output_type": "stream",
     "text": [
      "Epoch 0. Loss: 14.677414258850465, Train_mae 1.7176581395542598, Test_mae 1.7429702549209596\n",
      "Epoch 1. Loss: 9.018840810018597, Train_mae 1.008236643350756, Test_mae 1.027883416727066\n",
      "Epoch 2. Loss: 8.634886879483181, Train_mae 0.902963298600298, Test_mae 0.9227513971195221\n",
      "Epoch 3. Loss: 8.103130790031337, Train_mae 1.7556065334865707, Test_mae 1.7794139747543336\n",
      "Epoch 4. Loss: 7.944741475106001, Train_mae 0.8874958783126203, Test_mae 0.9068851193103791\n"
     ]
    }
   ],
   "source": [
    "for e in range(epochs):\n",
    "    moving_loss = 0\n",
    "    for i, (data, label) in enumerate(train_data):\n",
    "        data = data.as_in_context(ctx)\n",
    "        label = label.as_in_context(ctx)\n",
    "        with autograd.record():\n",
    "            output = net(data)\n",
    "            loss_result = loss(output, label)\n",
    "        loss_result.backward()\n",
    "        trainer.step(batch_size)\n",
    "\n",
    "        curr_loss = mx.nd.mean(loss_result).asscalar()\n",
    "        moving_loss = (curr_loss if ((i == 0) and (e == 0))\n",
    "                       else (1 - smoothing_constant) * moving_loss + smoothing_constant * curr_loss)\n",
    "\n",
    "    test_mae = measure_performance(net, ctx, test_data)\n",
    "    train_mae = measure_performance(net, ctx, train_data)\n",
    "    print(\"Epoch %s. Loss: %s, Train_mae %s, Test_mae %s\" % (e, moving_loss, train_mae, test_mae))"
   ]
  },
  {
   "cell_type": "code",
   "execution_count": 19,
   "metadata": {},
   "outputs": [],
   "source": [
    "import numpy as np"
   ]
  },
  {
   "cell_type": "code",
   "execution_count": 20,
   "metadata": {},
   "outputs": [
    {
     "data": {
      "text/plain": [
       "4.389521598815918"
      ]
     },
     "execution_count": 20,
     "metadata": {},
     "output_type": "execute_result"
    }
   ],
   "source": [
    "net(mx.nd.array(np.expand_dims(np.ones(4), axis=0))).asnumpy().ravel().tolist()[0]"
   ]
  },
  {
   "cell_type": "code",
   "execution_count": 21,
   "metadata": {},
   "outputs": [],
   "source": [
    "net.export(\"../models/model\", epoch=epochs - 1)"
   ]
  }
 ],
 "metadata": {
  "kernelspec": {
   "display_name": "Python 3",
   "language": "python",
   "name": "python3"
  },
  "language_info": {
   "codemirror_mode": {
    "name": "ipython",
    "version": 3
   },
   "file_extension": ".py",
   "mimetype": "text/x-python",
   "name": "python",
   "nbconvert_exporter": "python",
   "pygments_lexer": "ipython3",
   "version": "3.6.5"
  }
 },
 "nbformat": 4,
 "nbformat_minor": 2
}
